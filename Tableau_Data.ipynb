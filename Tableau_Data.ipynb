{
 "cells": [
  {
   "cell_type": "code",
   "execution_count": 1,
   "metadata": {},
   "outputs": [],
   "source": [
    "import pandas as pd\n",
    "import numpy as np\n",
    "from math import radians, acos, sin, cos, trunc"
   ]
  },
  {
   "cell_type": "code",
   "execution_count": 2,
   "metadata": {},
   "outputs": [],
   "source": [
    "def distance(lat1,lon1,lat2,lon2):\n",
    "    if (lat1==lat2 and lon1==lon2):\n",
    "        return 0\n",
    "    else:\n",
    "        R=3961 # Radius of the Earth in miles\n",
    "        slat = radians(lat1)\n",
    "        slon = radians(lon1)\n",
    "        elat = radians(lat2)\n",
    "        elon = radians(lon2)\n",
    "        dist = 3961 * acos(sin(slat)*sin(elat) + cos(slat)*cos(elat)*cos(slon - elon))\n",
    "        return dist"
   ]
  },
  {
   "cell_type": "code",
   "execution_count": 3,
   "metadata": {},
   "outputs": [],
   "source": [
    "def bikehistory(inputfile_df, month):\n",
    "    datafile_df = inputfile_df.groupby(['bikeid'])['tripduration'].sum()\n",
    "    datafile_df = datafile_df.to_frame()\n",
    "    datafile_df['hours'] = round(datafile_df['tripduration']/3600,0)\n",
    "    datafile_df.hours=datafile_df.hours.astype('int64')\n",
    "\n",
    "    bike_history_df=pd.DataFrame(columns=['month','bikeid','mileage','biketrips'])\n",
    "    for row in range(len(datafile_df)):\n",
    "        bikeid = datafile_df.iloc[row].name\n",
    "        bikepath_df = inputfile_df.loc[inputfile_df['bikeid']==bikeid]\n",
    "        bikepath_df.index=np.arange(len(bikepath_df))+1\n",
    "        tbike_distance=0\n",
    "        bike_history={}\n",
    "        for row2 in range(len(bikepath_df)):\n",
    "            lat1=bikepath_df.loc[row2+1,'start station latitude']\n",
    "            lon1=bikepath_df.loc[row2+1,'start station longitude'] \n",
    "            lat2=bikepath_df.loc[row2+1,'end station latitude']\n",
    "            lon2=bikepath_df.loc[row2+1,'end station longitude']\n",
    "            tbike_distance+=distance(lat1,lon1,lat2,lon2)\n",
    "        bike_history['month'] = month\n",
    "        bike_history['bikeid'] = bikeid\n",
    "        bike_history['mileage'] = round(tbike_distance,2)\n",
    "        bike_history['biketrips'] = len(bikepath_df)\n",
    "        bike_history_df=bike_history_df.append(bike_history,ignore_index=True)\n",
    "    bike_history_df = bike_history_df.merge(datafile_df, on='bikeid')\n",
    "    bike_history_df = bike_history_df.sort_values(by=['mileage'],ascending=False)\n",
    "    pd.set_option(\"display.max_row\", None, \"display.max_columns\", None)\n",
    "    bike_history_df.bikeid=bike_history_df.bikeid.astype('int64')\n",
    "    bike_history_df.biketrips=bike_history_df.biketrips.astype('int64')\n",
    "    bike_history_df.set_index('bikeid', inplace=True)\n",
    "    return bike_history_df"
   ]
  },
  {
   "cell_type": "code",
   "execution_count": 4,
   "metadata": {},
   "outputs": [],
   "source": [
    "def top25mileage(bike_history_df, inputfile_df, month):\n",
    "    top_mileage_df=pd.DataFrame()\n",
    "    for row in range(25):\n",
    "        bikeid = bike_history_df.iloc[row].name\n",
    "        bikepath_df = inputfile_df.loc[inputfile_df['bikeid']==bikeid]\n",
    "        bikepath_df.index=np.arange(len(bikepath_df))+1\n",
    "        bikepath_df['month_bikeid'] = str(bikeid) + \"-\" + month\n",
    "        top_mileage_df = top_mileage_df.append(bikepath_df, ignore_index=False)\n",
    "    pd.set_option(\"display.max_row\", None, \"display.max_columns\", None)\n",
    "    top_mileage_df[\"bike_route_order\"]=top_mileage_df.index\n",
    "    top_mileage_df.head(25)\n",
    "    return top_mileage_df"
   ]
  },
  {
   "cell_type": "code",
   "execution_count": 5,
   "metadata": {},
   "outputs": [],
   "source": [
    "def getmonth(i):\n",
    "    switcher={\n",
    "        1:'January',\n",
    "        2:'February',\n",
    "        3:'March',\n",
    "        4:'April',\n",
    "        5:'May',\n",
    "        6:'June',\n",
    "        7:'July',\n",
    "        8:'August',\n",
    "        9:'September',\n",
    "        10:'October',\n",
    "        11:'November',\n",
    "        12:'December'\n",
    "    }\n",
    "    return switcher.get(i,\"Invalid Month\")"
   ]
  },
  {
   "cell_type": "code",
   "execution_count": 6,
   "metadata": {},
   "outputs": [
    {
     "name": "stdout",
     "output_type": "stream",
     "text": [
      "Data/202001_top_mileage.csv\n",
      "Data/202001_bike_history.csv\n"
     ]
    },
    {
     "name": "stderr",
     "output_type": "stream",
     "text": [
      "C:\\users\\jlubr\\anaconda3\\envs\\PythonData\\lib\\site-packages\\ipykernel_launcher.py:7: SettingWithCopyWarning: \n",
      "A value is trying to be set on a copy of a slice from a DataFrame.\n",
      "Try using .loc[row_indexer,col_indexer] = value instead\n",
      "\n",
      "See the caveats in the documentation: https://pandas.pydata.org/pandas-docs/stable/user_guide/indexing.html#returning-a-view-versus-a-copy\n",
      "  import sys\n"
     ]
    },
    {
     "name": "stdout",
     "output_type": "stream",
     "text": [
      "Data/202002_top_mileage.csv\n",
      "Data/202002_bike_history.csv\n",
      "Data/202003_top_mileage.csv\n",
      "Data/202003_bike_history.csv\n",
      "Data/202004_top_mileage.csv\n",
      "Data/202004_bike_history.csv\n",
      "Data/202005_top_mileage.csv\n",
      "Data/202005_bike_history.csv\n",
      "Data/202006_top_mileage.csv\n",
      "Data/202006_bike_history.csv\n",
      "Data/202007_top_mileage.csv\n",
      "Data/202007_bike_history.csv\n",
      "Data/202008_top_mileage.csv\n",
      "Data/202008_bike_history.csv\n",
      "Data/202009_top_mileage.csv\n",
      "Data/202009_bike_history.csv\n",
      "Data/202010_top_mileage.csv\n",
      "Data/202010_bike_history.csv\n",
      "Data/202011_top_mileage.csv\n",
      "Data/202011_bike_history.csv\n",
      "Data/202012_top_mileage.csv\n",
      "Data/202012_bike_history.csv\n",
      "Processing completed...\n"
     ]
    }
   ],
   "source": [
    "configfile=\"Data/citibike_datafile_names.csv\"\n",
    "datafiles_df=pd.read_csv(configfile)\n",
    "for file in range(len(datafiles_df)):\n",
    "    datafile=datafiles_df['filename'][file]\n",
    "    month=getmonth(int(datafile[4:6]))\n",
    "    output_mileage_name=\"Data/\" + datafile[0:6] + \"_top_mileage.csv\"\n",
    "    output_history_name=\"Data/\" + datafile[0:6] + \"_bike_history.csv\"\n",
    "    inputfile_df=pd.read_csv(\"Data/\" + datafile)\n",
    "    print (output_mileage_name)\n",
    "    print (output_history_name)\n",
    "    bike_history_df=bikehistory(inputfile_df,month)\n",
    "    top_mileage_df=top25mileage(bike_history_df, inputfile_df, month)\n",
    "    bike_history_df.to_csv(output_history_name,index=True)\n",
    "    top_mileage_df.to_csv(output_mileage_name, index=False)\n",
    "print('Processing completed...')"
   ]
  }
 ],
 "metadata": {
  "kernelspec": {
   "display_name": "Python 3",
   "language": "python",
   "name": "python3"
  },
  "language_info": {
   "codemirror_mode": {
    "name": "ipython",
    "version": 3
   },
   "file_extension": ".py",
   "mimetype": "text/x-python",
   "name": "python",
   "nbconvert_exporter": "python",
   "pygments_lexer": "ipython3",
   "version": "3.6.10"
  }
 },
 "nbformat": 4,
 "nbformat_minor": 4
}
